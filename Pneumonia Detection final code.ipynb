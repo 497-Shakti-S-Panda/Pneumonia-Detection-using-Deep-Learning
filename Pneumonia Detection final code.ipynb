{
 "cells": [
  {
   "cell_type": "code",
   "execution_count": 1,
   "metadata": {
    "execution": {
     "iopub.execute_input": "2021-07-01T15:21:32.767012Z",
     "iopub.status.busy": "2021-07-01T15:21:32.766530Z",
     "iopub.status.idle": "2021-07-01T15:21:39.975971Z",
     "shell.execute_reply": "2021-07-01T15:21:39.974873Z",
     "shell.execute_reply.started": "2021-07-01T15:21:32.766926Z"
    }
   },
   "outputs": [],
   "source": [
    "import glob\n",
    "import os\n",
    "import numpy as np\n",
    "import pandas as pd\n",
    "import matplotlib.pyplot as plt\n",
    "%matplotlib inline\n",
    "\n",
    "import tensorflow as tf\n",
    "from tensorflow import keras\n",
    "from keras.applications import VGG16\n",
    "from tensorflow.keras.preprocessing.image import ImageDataGenerator\n",
    "import seaborn as sns\n",
    "import warnings\n",
    "warnings.filterwarnings('ignore')"
   ]
  },
  {
   "cell_type": "code",
   "execution_count": 2,
   "metadata": {
    "execution": {
     "iopub.execute_input": "2021-07-01T15:21:39.980250Z",
     "iopub.status.busy": "2021-07-01T15:21:39.979941Z",
     "iopub.status.idle": "2021-07-01T15:21:39.988148Z",
     "shell.execute_reply": "2021-07-01T15:21:39.986693Z",
     "shell.execute_reply.started": "2021-07-01T15:21:39.980219Z"
    }
   },
   "outputs": [],
   "source": [
    "dir_path = r\"C:/Users/KIIT/Downloads/archive (1)\\chest_xray\""
   ]
  },
  {
   "cell_type": "code",
   "execution_count": 3,
   "metadata": {
    "execution": {
     "iopub.execute_input": "2021-07-01T15:21:39.993383Z",
     "iopub.status.busy": "2021-07-01T15:21:39.992986Z",
     "iopub.status.idle": "2021-07-01T15:21:40.001310Z",
     "shell.execute_reply": "2021-07-01T15:21:40.000140Z",
     "shell.execute_reply.started": "2021-07-01T15:21:39.993354Z"
    }
   },
   "outputs": [],
   "source": [
    "''' training path '''\n",
    "train_p = os.path.join(dir_path, \"train\")\n",
    "\n",
    "''' test path '''\n",
    "test_p =os.path.join(dir_path, \"test\")\n",
    "\n",
    "''' val path '''\n",
    "val_p = os.path.join(dir_path, \"val\")"
   ]
  },
  {
   "cell_type": "code",
   "execution_count": 4,
   "metadata": {
    "execution": {
     "iopub.execute_input": "2021-07-01T15:21:40.004091Z",
     "iopub.status.busy": "2021-07-01T15:21:40.003567Z",
     "iopub.status.idle": "2021-07-01T15:21:40.390532Z",
     "shell.execute_reply": "2021-07-01T15:21:40.389399Z",
     "shell.execute_reply.started": "2021-07-01T15:21:40.004024Z"
    }
   },
   "outputs": [],
   "source": [
    "''' PNEUMONIA images '''\n",
    "p_train_images = glob.glob(train_p + \"/PNEUMONIA/*.jpeg\")\n",
    "\n",
    "''' NORMAL  images '''\n",
    "n_train_images = glob.glob(train_p + \"/NORMAL/*.jpeg\")"
   ]
  },
  {
   "cell_type": "code",
   "execution_count": 5,
   "metadata": {
    "execution": {
     "iopub.execute_input": "2021-07-01T15:21:40.392476Z",
     "iopub.status.busy": "2021-07-01T15:21:40.392011Z",
     "iopub.status.idle": "2021-07-01T15:21:40.403881Z",
     "shell.execute_reply": "2021-07-01T15:21:40.402627Z",
     "shell.execute_reply.started": "2021-07-01T15:21:40.392432Z"
    }
   },
   "outputs": [],
   "source": [
    "df = pd.DataFrame(np.concatenate([[0]*len(n_train_images) , [1] *  len(p_train_images)]),columns=[\"class\"])"
   ]
  },
  {
   "cell_type": "code",
   "execution_count": 6,
   "metadata": {},
   "outputs": [
    {
     "data": {
      "text/html": [
       "<div>\n",
       "<style scoped>\n",
       "    .dataframe tbody tr th:only-of-type {\n",
       "        vertical-align: middle;\n",
       "    }\n",
       "\n",
       "    .dataframe tbody tr th {\n",
       "        vertical-align: top;\n",
       "    }\n",
       "\n",
       "    .dataframe thead th {\n",
       "        text-align: right;\n",
       "    }\n",
       "</style>\n",
       "<table border=\"1\" class=\"dataframe\">\n",
       "  <thead>\n",
       "    <tr style=\"text-align: right;\">\n",
       "      <th></th>\n",
       "      <th>class</th>\n",
       "    </tr>\n",
       "  </thead>\n",
       "  <tbody>\n",
       "    <tr>\n",
       "      <th>0</th>\n",
       "      <td>0</td>\n",
       "    </tr>\n",
       "    <tr>\n",
       "      <th>1</th>\n",
       "      <td>0</td>\n",
       "    </tr>\n",
       "    <tr>\n",
       "      <th>2</th>\n",
       "      <td>0</td>\n",
       "    </tr>\n",
       "    <tr>\n",
       "      <th>3</th>\n",
       "      <td>0</td>\n",
       "    </tr>\n",
       "    <tr>\n",
       "      <th>4</th>\n",
       "      <td>0</td>\n",
       "    </tr>\n",
       "    <tr>\n",
       "      <th>...</th>\n",
       "      <td>...</td>\n",
       "    </tr>\n",
       "    <tr>\n",
       "      <th>5211</th>\n",
       "      <td>1</td>\n",
       "    </tr>\n",
       "    <tr>\n",
       "      <th>5212</th>\n",
       "      <td>1</td>\n",
       "    </tr>\n",
       "    <tr>\n",
       "      <th>5213</th>\n",
       "      <td>1</td>\n",
       "    </tr>\n",
       "    <tr>\n",
       "      <th>5214</th>\n",
       "      <td>1</td>\n",
       "    </tr>\n",
       "    <tr>\n",
       "      <th>5215</th>\n",
       "      <td>1</td>\n",
       "    </tr>\n",
       "  </tbody>\n",
       "</table>\n",
       "<p>5216 rows × 1 columns</p>\n",
       "</div>"
      ],
      "text/plain": [
       "      class\n",
       "0         0\n",
       "1         0\n",
       "2         0\n",
       "3         0\n",
       "4         0\n",
       "...     ...\n",
       "5211      1\n",
       "5212      1\n",
       "5213      1\n",
       "5214      1\n",
       "5215      1\n",
       "\n",
       "[5216 rows x 1 columns]"
      ]
     },
     "execution_count": 6,
     "metadata": {},
     "output_type": "execute_result"
    }
   ],
   "source": [
    "df"
   ]
  },
  {
   "cell_type": "code",
   "execution_count": 7,
   "metadata": {
    "execution": {
     "iopub.execute_input": "2021-07-01T15:21:40.406713Z",
     "iopub.status.busy": "2021-07-01T15:21:40.405986Z",
     "iopub.status.idle": "2021-07-01T15:21:40.596180Z",
     "shell.execute_reply": "2021-07-01T15:21:40.594731Z",
     "shell.execute_reply.started": "2021-07-01T15:21:40.406669Z"
    }
   },
   "outputs": [
    {
     "data": {
      "text/plain": [
       "<AxesSubplot:xlabel='class', ylabel='count'>"
      ]
     },
     "execution_count": 7,
     "metadata": {},
     "output_type": "execute_result"
    },
    {
     "data": {
      "image/png": "[encoded data removed]",
      "text/plain": [
       "<Figure size 432x288 with 1 Axes>"
      ]
     },
     "metadata": {
      "needs_background": "light"
     },
     "output_type": "display_data"
    }
   ],
   "source": [
    "sns.countplot(df['class'],data=df)"
   ]
  },
  {
   "cell_type": "code",
   "execution_count": 8,
   "metadata": {
    "execution": {
     "iopub.execute_input": "2021-07-01T15:21:40.598276Z",
     "iopub.status.busy": "2021-07-01T15:21:40.597832Z",
     "iopub.status.idle": "2021-07-01T15:21:40.605568Z",
     "shell.execute_reply": "2021-07-01T15:21:40.603917Z",
     "shell.execute_reply.started": "2021-07-01T15:21:40.598234Z"
    }
   },
   "outputs": [],
   "source": [
    "''' Data Augmentation '''\n",
    "train_ds = ImageDataGenerator(rescale =1/255, shear_range=10, zoom_range = 0.2, horizontal_flip = True, \n",
    "                              width_shift_range=0.2, fill_mode = 'nearest')\n",
    "\n",
    "val_datagen = ImageDataGenerator(\n",
    "    rescale = 1/255\n",
    ")"
   ]
  },
  {
   "cell_type": "code",
   "execution_count": 9,
   "metadata": {
    "execution": {
     "iopub.execute_input": "2021-07-01T15:21:40.608071Z",
     "iopub.status.busy": "2021-07-01T15:21:40.607382Z",
     "iopub.status.idle": "2021-07-01T15:21:45.374019Z",
     "shell.execute_reply": "2021-07-01T15:21:45.372788Z",
     "shell.execute_reply.started": "2021-07-01T15:21:40.608006Z"
    }
   },
   "outputs": [],
   "source": [
    "''' VGG16 Model '''\n",
    "\n",
    "model1 = VGG16(include_top = False,weights='imagenet')\n",
    "\n",
    "''' freezing layers '''\n",
    "for i in model1.layers:\n",
    "    i.trainable=False\n",
    "    \n",
    "out = model1.output\n",
    "\n",
    "''' GlobalAveragePooling Layer '''\n",
    "out = keras.layers.GlobalAveragePooling2D()(out)\n",
    "out = keras.layers.Dense(128, activation='relu')(out)\n",
    "\n",
    "''' Classification Layer '''\n",
    "pred = keras.layers.Dense(1, activation='sigmoid')(out)\n",
    "\n",
    "''' final model '''\n",
    "model= keras.Model(model1.input, pred)\n",
    "\n",
    "lr = 0.1\n",
    "lr_schedule = tf.keras.optimizers.schedules.ExponentialDecay(lr, decay_steps=100000, decay_rate=0.96, staircase=True)\n",
    "\n",
    "''' Compile the model '''\n",
    "model.compile(loss='binary_crossentropy', optimizer=tf.keras.optimizers.RMSprop(lr_schedule), metrics=['accuracy'])"
   ]
  },
  {
   "cell_type": "code",
   "execution_count": 10,
   "metadata": {
    "execution": {
     "iopub.execute_input": "2021-07-01T15:22:11.299459Z",
     "iopub.status.busy": "2021-07-01T15:22:11.298874Z",
     "iopub.status.idle": "2021-07-01T15:22:11.327424Z",
     "shell.execute_reply": "2021-07-01T15:22:11.326091Z",
     "shell.execute_reply.started": "2021-07-01T15:22:11.299413Z"
    }
   },
   "outputs": [
    {
     "name": "stdout",
     "output_type": "stream",
     "text": [
      "Model: \"model\"\n",
      "_________________________________________________________________\n",
      " Layer (type)                Output Shape              Param #   \n",
      "=================================================================\n",
      " input_1 (InputLayer)        [(None, None, None, 3)]   0         \n",
      "                                                                 \n",
      " block1_conv1 (Conv2D)       (None, None, None, 64)    1792      \n",
      "                                                                 \n",
      " block1_conv2 (Conv2D)       (None, None, None, 64)    36928     \n",
      "                                                                 \n",
      " block1_pool (MaxPooling2D)  (None, None, None, 64)    0         \n",
      "                                                                 \n",
      " block2_conv1 (Conv2D)       (None, None, None, 128)   73856     \n",
      "                                                                 \n",
      " block2_conv2 (Conv2D)       (None, None, None, 128)   147584    \n",
      "                                                                 \n",
      " block2_pool (MaxPooling2D)  (None, None, None, 128)   0         \n",
      "                                                                 \n",
      " block3_conv1 (Conv2D)       (None, None, None, 256)   295168    \n",
      "                                                                 \n",
      " block3_conv2 (Conv2D)       (None, None, None, 256)   590080    \n",
      "                                                                 \n",
      " block3_conv3 (Conv2D)       (None, None, None, 256)   590080    \n",
      "                                                                 \n",
      " block3_pool (MaxPooling2D)  (None, None, None, 256)   0         \n",
      "                                                                 \n",
      " block4_conv1 (Conv2D)       (None, None, None, 512)   1180160   \n",
      "                                                                 \n",
      " block4_conv2 (Conv2D)       (None, None, None, 512)   2359808   \n",
      "                                                                 \n",
      " block4_conv3 (Conv2D)       (None, None, None, 512)   2359808   \n",
      "                                                                 \n",
      " block4_pool (MaxPooling2D)  (None, None, None, 512)   0         \n",
      "                                                                 \n",
      " block5_conv1 (Conv2D)       (None, None, None, 512)   2359808   \n",
      "                                                                 \n",
      " block5_conv2 (Conv2D)       (None, None, None, 512)   2359808   \n",
      "                                                                 \n",
      " block5_conv3 (Conv2D)       (None, None, None, 512)   2359808   \n",
      "                                                                 \n",
      " block5_pool (MaxPooling2D)  (None, None, None, 512)   0         \n",
      "                                                                 \n",
      " global_average_pooling2d (G  (None, 512)              0         \n",
      " lobalAveragePooling2D)                                          \n",
      "                                                                 \n",
      " dense (Dense)               (None, 128)               65664     \n",
      "                                                                 \n",
      " dense_1 (Dense)             (None, 1)                 129       \n",
      "                                                                 \n",
      "=================================================================\n",
      "Total params: 14,780,481\n",
      "Trainable params: 65,793\n",
      "Non-trainable params: 14,714,688\n",
      "_________________________________________________________________\n"
     ]
    }
   ],
   "source": [
    "''' lets see how model looks like '''\n",
    "model.summary()"
   ]
  },
  {
   "cell_type": "code",
   "execution_count": 11,
   "metadata": {
    "execution": {
     "iopub.execute_input": "2021-07-01T15:22:16.287697Z",
     "iopub.status.busy": "2021-07-01T15:22:16.287328Z",
     "iopub.status.idle": "2021-07-01T15:22:19.655831Z",
     "shell.execute_reply": "2021-07-01T15:22:19.654472Z",
     "shell.execute_reply.started": "2021-07-01T15:22:16.287666Z"
    }
   },
   "outputs": [
    {
     "name": "stdout",
     "output_type": "stream",
     "text": [
      "Found 5216 images belonging to 2 classes.\n",
      "Found 16 images belonging to 2 classes.\n",
      "Found 624 images belonging to 2 classes.\n"
     ]
    }
   ],
   "source": [
    "''' flow from directory '''\n",
    "train_ds = train_ds.flow_from_directory(train_p, target_size=(150,150), batch_size= 16, class_mode='binary')\n",
    "\n",
    "val_ds = val_datagen.flow_from_directory(val_p, target_size=(150,150),batch_size=8, class_mode='binary')\n",
    "\n",
    "test_ds = val_datagen.flow_from_directory(test_p, target_size=(150,150), batch_size=32, class_mode='binary')"
   ]
  },
  {
   "cell_type": "code",
   "execution_count": 12,
   "metadata": {
    "execution": {
     "iopub.execute_input": "2021-07-01T15:22:19.658232Z",
     "iopub.status.busy": "2021-07-01T15:22:19.657697Z",
     "iopub.status.idle": "2021-07-01T15:48:03.124949Z",
     "shell.execute_reply": "2021-07-01T15:48:03.123762Z",
     "shell.execute_reply.started": "2021-07-01T15:22:19.658189Z"
    }
   },
   "outputs": [
    {
     "name": "stdout",
     "output_type": "stream",
     "text": [
      "Epoch 1/2\n",
      "326/326 [==============================] - 665s 2s/step - loss: 1.2390 - accuracy: 0.8200 - val_loss: 0.4100 - val_accuracy: 0.8125\n",
      "Epoch 2/2\n",
      "326/326 [==============================] - 853s 3s/step - loss: 0.2701 - accuracy: 0.8969 - val_loss: 0.6277 - val_accuracy: 0.6875\n"
     ]
    }
   ],
   "source": [
    "''' training '''\n",
    "history = model.fit(train_ds, steps_per_epoch = 326, epochs=2, validation_data=val_ds)"
   ]
  },
  {
   "cell_type": "code",
   "execution_count": 13,
   "metadata": {
    "execution": {
     "iopub.execute_input": "2021-07-01T15:48:20.003723Z",
     "iopub.status.busy": "2021-07-01T15:48:20.003354Z",
     "iopub.status.idle": "2021-07-01T15:48:57.134603Z",
     "shell.execute_reply": "2021-07-01T15:48:57.133506Z",
     "shell.execute_reply.started": "2021-07-01T15:48:20.003691Z"
    }
   },
   "outputs": [
    {
     "name": "stdout",
     "output_type": "stream",
     "text": [
      "20/20 [==============================] - 118s 6s/step - loss: 0.3576 - accuracy: 0.8862\n"
     ]
    }
   ],
   "source": [
    "''' evaluating model '''\n",
    "accuracy = model.evaluate(test_ds)[1]"
   ]
  },
  {
   "cell_type": "code",
   "execution_count": 14,
   "metadata": {
    "execution": {
     "iopub.execute_input": "2021-07-01T15:49:00.273682Z",
     "iopub.status.busy": "2021-07-01T15:49:00.273329Z",
     "iopub.status.idle": "2021-07-01T15:49:00.280508Z",
     "shell.execute_reply": "2021-07-01T15:49:00.279145Z",
     "shell.execute_reply.started": "2021-07-01T15:49:00.273653Z"
    }
   },
   "outputs": [
    {
     "data": {
      "text/plain": [
       "0.8862179517745972"
      ]
     },
     "execution_count": 14,
     "metadata": {},
     "output_type": "execute_result"
    }
   ],
   "source": [
    "accuracy"
   ]
  },
  {
   "cell_type": "code",
   "execution_count": 15,
   "metadata": {
    "execution": {
     "iopub.execute_input": "2021-07-01T15:49:04.713569Z",
     "iopub.status.busy": "2021-07-01T15:49:04.713168Z",
     "iopub.status.idle": "2021-07-01T15:49:04.719645Z",
     "shell.execute_reply": "2021-07-01T15:49:04.718363Z",
     "shell.execute_reply.started": "2021-07-01T15:49:04.713538Z"
    }
   },
   "outputs": [],
   "source": [
    "''' unfreezing layers '''\n",
    "for layer in model1.layers:\n",
    "    layer.trainable = True"
   ]
  },
  {
   "cell_type": "code",
   "execution_count": 16,
   "metadata": {
    "execution": {
     "iopub.execute_input": "2021-07-01T15:52:28.684299Z",
     "iopub.status.busy": "2021-07-01T15:52:28.683860Z",
     "iopub.status.idle": "2021-07-01T15:52:28.713336Z",
     "shell.execute_reply": "2021-07-01T15:52:28.712036Z",
     "shell.execute_reply.started": "2021-07-01T15:52:28.684256Z"
    }
   },
   "outputs": [],
   "source": [
    "'''Finetuning the model'''\n",
    "lr = 1e-5\n",
    "lr_schedule = tf.keras.optimizers.schedules.ExponentialDecay(lr, decay_steps=100000, decay_rate=0.96, staircase=True)\n",
    "\n",
    "''' compile the model '''\n",
    "model.compile(optimizer=tf.keras.optimizers.RMSprop(lr_schedule), loss=keras.losses.BinaryCrossentropy(from_logits=True),\n",
    "              metrics=[keras.metrics.BinaryAccuracy()])"
   ]
  },
  {
   "cell_type": "code",
   "execution_count": 17,
   "metadata": {
    "execution": {
     "iopub.execute_input": "2021-07-01T15:52:37.813674Z",
     "iopub.status.busy": "2021-07-01T15:52:37.813230Z",
     "iopub.status.idle": "2021-07-01T17:01:00.258136Z",
     "shell.execute_reply": "2021-07-01T17:01:00.257136Z",
     "shell.execute_reply.started": "2021-07-01T15:52:37.813644Z"
    }
   },
   "outputs": [
    {
     "name": "stdout",
     "output_type": "stream",
     "text": [
      "Epoch 1/2\n",
      "326/326 [==============================] - 2225s 7s/step - loss: 0.2124 - binary_accuracy: 0.9153 - val_loss: 1.1345 - val_binary_accuracy: 0.7500\n",
      "Epoch 2/2\n",
      "326/326 [==============================] - 2964s 9s/step - loss: 0.1553 - binary_accuracy: 0.9467 - val_loss: 0.6149 - val_binary_accuracy: 0.7500\n"
     ]
    },
    {
     "data": {
      "text/plain": [
       "<keras.callbacks.History at 0x11b39638be0>"
      ]
     },
     "execution_count": 17,
     "metadata": {},
     "output_type": "execute_result"
    }
   ],
   "source": [
    "''' training '''\n",
    "model.fit(train_ds, steps_per_epoch = 326, epochs=2, validation_data=val_ds)"
   ]
  },
  {
   "cell_type": "code",
   "execution_count": 19,
   "metadata": {
    "execution": {
     "iopub.execute_input": "2021-07-01T17:21:37.402532Z",
     "iopub.status.busy": "2021-07-01T17:21:37.402174Z",
     "iopub.status.idle": "2021-07-01T17:22:06.965573Z",
     "shell.execute_reply": "2021-07-01T17:22:06.964398Z",
     "shell.execute_reply.started": "2021-07-01T17:21:37.402501Z"
    }
   },
   "outputs": [
    {
     "name": "stdout",
     "output_type": "stream",
     "text": [
      "20/20 [==============================] - 63s 3s/step - loss: 0.2830 - binary_accuracy: 0.9231\n"
     ]
    }
   ],
   "source": [
    "''' evaluating model '''\n",
    "final_acc = model.evaluate(test_ds)[1]"
   ]
  },
  {
   "cell_type": "code",
   "execution_count": 23,
   "metadata": {
    "execution": {
     "iopub.execute_input": "2021-07-01T17:22:06.968025Z",
     "iopub.status.busy": "2021-07-01T17:22:06.967628Z",
     "iopub.status.idle": "2021-07-01T17:22:06.978503Z",
     "shell.execute_reply": "2021-07-01T17:22:06.976608Z",
     "shell.execute_reply.started": "2021-07-01T17:22:06.967981Z"
    }
   },
   "outputs": [
    {
     "data": {
      "text/plain": [
       "92.30769276618958"
      ]
     },
     "execution_count": 23,
     "metadata": {},
     "output_type": "execute_result"
    }
   ],
   "source": [
    "final_acc*100"
   ]
  },
  {
   "cell_type": "code",
   "execution_count": 24,
   "metadata": {
    "execution": {
     "iopub.execute_input": "2021-07-01T17:03:16.613557Z",
     "iopub.status.busy": "2021-07-01T17:03:16.613215Z",
     "iopub.status.idle": "2021-07-01T17:03:16.989739Z",
     "shell.execute_reply": "2021-07-01T17:03:16.988778Z",
     "shell.execute_reply.started": "2021-07-01T17:03:16.613514Z"
    }
   },
   "outputs": [
    {
     "data": {
      "image/png": "[encoded data removed]",
      "text/plain": [
       "<Figure size 1080x720 with 2 Axes>"
      ]
     },
     "metadata": {
      "needs_background": "light"
     },
     "output_type": "display_data"
    }
   ],
   "source": [
    "''' Training Accuracy and Validaion Accuracy graph '''\n",
    "plt.figure(figsize=(15,10))\n",
    "plt.subplot(2, 2, 1)\n",
    "plt.plot(history.history['accuracy'], label = \"Training accuracy\")\n",
    "plt.plot(history.history['val_accuracy'], label=\"Validation accuracy\")\n",
    "plt.legend()\n",
    "plt.title(\"Training vs validation accuracy\")\n",
    "\n",
    "''' Training Loss and Validation Loss graph '''\n",
    "plt.subplot(2,2,2)\n",
    "plt.plot(history.history['loss'], label = \"Training loss\")\n",
    "plt.plot(history.history['val_loss'], label=\"Validation loss\")\n",
    "plt.legend()\n",
    "plt.title(\"Training vs validation loss\")\n",
    "\n",
    "plt.show()"
   ]
  },
  {
   "cell_type": "code",
   "execution_count": null,
   "metadata": {},
   "outputs": [],
   "source": []
  },
  {
   "cell_type": "code",
   "execution_count": null,
   "metadata": {},
   "outputs": [],
   "source": []
  }
 ],
 "metadata": {
  "kernelspec": {
   "display_name": "Python 3 (ipykernel)",
   "language": "python",
   "name": "python3"
  },
  "language_info": {
   "codemirror_mode": {
    "name": "ipython",
    "version": 3
   },
   "file_extension": ".py",
   "mimetype": "text/x-python",
   "name": "python",
   "nbconvert_exporter": "python",
   "pygments_lexer": "ipython3",
   "version": "3.9.7"
  }
 },
 "nbformat": 4,
 "nbformat_minor": 4
}
